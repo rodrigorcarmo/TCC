{
 "cells": [
  {
   "cell_type": "markdown",
   "metadata": {},
   "source": [
    "# Bag of Words using TF-IDF"
   ]
  },
  {
   "cell_type": "markdown",
   "metadata": {},
   "source": [
    "## Utilizou-se o sframe para ler os dados"
   ]
  },
  {
   "cell_type": "code",
   "execution_count": 1,
   "metadata": {
    "collapsed": false
   },
   "outputs": [],
   "source": [
    "import graphlab"
   ]
  },
  {
   "cell_type": "markdown",
   "metadata": {},
   "source": [
    "## Carregamento dos dados"
   ]
  },
  {
   "cell_type": "code",
   "execution_count": 2,
   "metadata": {
    "collapsed": false,
    "scrolled": true
   },
   "outputs": [
    {
     "name": "stdout",
     "output_type": "stream",
     "text": [
      "This non-commercial license of GraphLab Create for academic use is assigned to rodrigorcamo87@gmail.com and will expire on July 31, 2017.\n"
     ]
    },
    {
     "name": "stderr",
     "output_type": "stream",
     "text": [
      "[INFO] graphlab.cython.cy_server: GraphLab Create v2.1 started. Logging: C:\\Users\\rodri\\AppData\\Local\\Temp\\graphlab_server_1475020466.log.0\n"
     ]
    },
    {
     "data": {
      "text/html": [
       "<pre>Finished parsing file C:\\Users\\rodri\\Documents\\TCC\\yelp_academic_dataset_review.json</pre>"
      ],
      "text/plain": [
       "Finished parsing file C:\\Users\\rodri\\Documents\\TCC\\yelp_academic_dataset_review.json"
      ]
     },
     "metadata": {},
     "output_type": "display_data"
    },
    {
     "data": {
      "text/html": [
       "<pre>Parsing completed. Parsed 100 lines in 0.363622 secs.</pre>"
      ],
      "text/plain": [
       "Parsing completed. Parsed 100 lines in 0.363622 secs."
      ]
     },
     "metadata": {},
     "output_type": "display_data"
    },
    {
     "name": "stdout",
     "output_type": "stream",
     "text": [
      "------------------------------------------------------\n",
      "Inferred types from first 100 line(s) of file as \n",
      "column_type_hints=[dict]\n",
      "If parsing fails due to incorrect types, you can correct\n",
      "the inferred type list above and pass it to read_csv in\n",
      "the column_type_hints argument\n",
      "------------------------------------------------------\n"
     ]
    },
    {
     "data": {
      "text/html": [
       "<pre>Read 59936 lines. Lines per second: 107040</pre>"
      ],
      "text/plain": [
       "Read 59936 lines. Lines per second: 107040"
      ]
     },
     "metadata": {},
     "output_type": "display_data"
    },
    {
     "data": {
      "text/html": [
       "<pre>Read 890505 lines. Lines per second: 157069</pre>"
      ],
      "text/plain": [
       "Read 890505 lines. Lines per second: 157069"
      ]
     },
     "metadata": {},
     "output_type": "display_data"
    },
    {
     "data": {
      "text/html": [
       "<pre>Read 1779346 lines. Lines per second: 163718</pre>"
      ],
      "text/plain": [
       "Read 1779346 lines. Lines per second: 163718"
      ]
     },
     "metadata": {},
     "output_type": "display_data"
    },
    {
     "data": {
      "text/html": [
       "<pre>Finished parsing file C:\\Users\\rodri\\Documents\\TCC\\yelp_academic_dataset_review.json</pre>"
      ],
      "text/plain": [
       "Finished parsing file C:\\Users\\rodri\\Documents\\TCC\\yelp_academic_dataset_review.json"
      ]
     },
     "metadata": {},
     "output_type": "display_data"
    },
    {
     "data": {
      "text/html": [
       "<pre>Parsing completed. Parsed 2225213 lines in 13.7552 secs.</pre>"
      ],
      "text/plain": [
       "Parsing completed. Parsed 2225213 lines in 13.7552 secs."
      ]
     },
     "metadata": {},
     "output_type": "display_data"
    }
   ],
   "source": [
    "review = graphlab.SFrame.read_json('yelp_academic_dataset_review.json',orient='lines')"
   ]
  },
  {
   "cell_type": "markdown",
   "metadata": {
    "collapsed": false
   },
   "source": [
    "# Classificando o review como positivo ou negativo a partir da média de estrelas dadas por cada usuário"
   ]
  },
  {
   "cell_type": "markdown",
   "metadata": {},
   "source": [
    "## Agrupando os reviews por usuário e calculando a média de estrelas"
   ]
  },
  {
   "cell_type": "code",
   "execution_count": 3,
   "metadata": {
    "collapsed": false
   },
   "outputs": [],
   "source": [
    "users = review.groupby(key_columns='user_id',operations={'avg_stars':graphlab.aggregate.AVG('stars')})"
   ]
  },
  {
   "cell_type": "code",
   "execution_count": 4,
   "metadata": {
    "collapsed": false
   },
   "outputs": [],
   "source": [
    "users = users.to_dataframe()"
   ]
  },
  {
   "cell_type": "code",
   "execution_count": 5,
   "metadata": {
    "collapsed": false
   },
   "outputs": [],
   "source": [
    "u = users.set_index('user_id').to_dict()"
   ]
  },
  {
   "cell_type": "markdown",
   "metadata": {},
   "source": [
    "## Definindo o sentimento, se for maior ou igual a média do usuário, retorna 1. Do contrário, 0."
   ]
  },
  {
   "cell_type": "code",
   "execution_count": 6,
   "metadata": {
    "collapsed": false
   },
   "outputs": [],
   "source": [
    "def define_sentiment(user_id,stars):\n",
    "    if stars >= u['avg_stars'].get(user_id):\n",
    "        return 1\n",
    "    else:\n",
    "        return 0"
   ]
  },
  {
   "cell_type": "code",
   "execution_count": 7,
   "metadata": {
    "collapsed": false
   },
   "outputs": [],
   "source": [
    "review['sentiment'] = review.apply(lambda x: define_sentiment(x['user_id'],x['stars']))"
   ]
  },
  {
   "cell_type": "markdown",
   "metadata": {},
   "source": [
    "## Escolhendo apenas os reviews de Phoenix"
   ]
  },
  {
   "cell_type": "code",
   "execution_count": 8,
   "metadata": {
    "collapsed": false
   },
   "outputs": [
    {
     "data": {
      "text/html": [
       "<pre>Finished parsing file C:\\Users\\rodri\\Documents\\TCC\\yelp_academic_dataset_business.json</pre>"
      ],
      "text/plain": [
       "Finished parsing file C:\\Users\\rodri\\Documents\\TCC\\yelp_academic_dataset_business.json"
      ]
     },
     "metadata": {},
     "output_type": "display_data"
    },
    {
     "data": {
      "text/html": [
       "<pre>Parsing completed. Parsed 100 lines in 0.751791 secs.</pre>"
      ],
      "text/plain": [
       "Parsing completed. Parsed 100 lines in 0.751791 secs."
      ]
     },
     "metadata": {},
     "output_type": "display_data"
    },
    {
     "name": "stdout",
     "output_type": "stream",
     "text": [
      "------------------------------------------------------\n",
      "Inferred types from first 100 line(s) of file as \n",
      "column_type_hints=[dict]\n",
      "If parsing fails due to incorrect types, you can correct\n",
      "the inferred type list above and pass it to read_csv in\n",
      "the column_type_hints argument\n",
      "------------------------------------------------------\n"
     ]
    },
    {
     "data": {
      "text/html": [
       "<pre>Read 59239 lines. Lines per second: 68656.3</pre>"
      ],
      "text/plain": [
       "Read 59239 lines. Lines per second: 68656.3"
      ]
     },
     "metadata": {},
     "output_type": "display_data"
    },
    {
     "data": {
      "text/html": [
       "<pre>Finished parsing file C:\\Users\\rodri\\Documents\\TCC\\yelp_academic_dataset_business.json</pre>"
      ],
      "text/plain": [
       "Finished parsing file C:\\Users\\rodri\\Documents\\TCC\\yelp_academic_dataset_business.json"
      ]
     },
     "metadata": {},
     "output_type": "display_data"
    },
    {
     "data": {
      "text/html": [
       "<pre>Parsing completed. Parsed 77445 lines in 0.951945 secs.</pre>"
      ],
      "text/plain": [
       "Parsing completed. Parsed 77445 lines in 0.951945 secs."
      ]
     },
     "metadata": {},
     "output_type": "display_data"
    }
   ],
   "source": [
    "business = graphlab.SFrame.read_json('yelp_academic_dataset_business.json',orient='lines')"
   ]
  },
  {
   "cell_type": "code",
   "execution_count": 20,
   "metadata": {
    "collapsed": false
   },
   "outputs": [],
   "source": [
    "data = review.join(business,on='business_id')"
   ]
  },
  {
   "cell_type": "code",
   "execution_count": 21,
   "metadata": {
    "collapsed": false
   },
   "outputs": [],
   "source": [
    "data = data[data['city']=='Phoenix']"
   ]
  },
  {
   "cell_type": "code",
   "execution_count": 22,
   "metadata": {
    "collapsed": true
   },
   "outputs": [],
   "source": [
    "positive = data[data['sentiment']==1].sample(.1,seed=10)\n",
    "negative = data[data['sentiment']==0].sample(.1,seed=10)\n",
    "data = negative.append(positive)"
   ]
  },
  {
   "cell_type": "code",
   "execution_count": 12,
   "metadata": {
    "collapsed": false
   },
   "outputs": [
    {
     "name": "stdout",
     "output_type": "stream",
     "text": [
      "Quantidade de reviews positivos: 20404\n",
      "Quantidade de reviews negativos: 9926\n",
      "Tamanho do dataset             : 30330\n"
     ]
    }
   ],
   "source": [
    "print 'Quantidade de reviews positivos: '+ str(len(data[data['sentiment']==1]))\n",
    "print 'Quantidade de reviews negativos: '+ str(len(data[data['sentiment']==0]))\n",
    "print 'Tamanho do dataset             : '+ str(len(data))"
   ]
  },
  {
   "cell_type": "code",
   "execution_count": 13,
   "metadata": {
    "collapsed": false
   },
   "outputs": [
    {
     "name": "stdout",
     "output_type": "stream",
     "text": [
      "0.672733267392\n"
     ]
    }
   ],
   "source": [
    "from __future__ import division\n",
    "print len(positive)/len(data)"
   ]
  },
  {
   "cell_type": "code",
   "execution_count": 14,
   "metadata": {
    "collapsed": true
   },
   "outputs": [],
   "source": [
    "data = graphlab.cross_validation.shuffle(data,random_seed=10)"
   ]
  },
  {
   "cell_type": "code",
   "execution_count": 15,
   "metadata": {
    "collapsed": false
   },
   "outputs": [],
   "source": [
    "from sklearn.feature_extraction.text import CountVectorizer\n",
    "count_vect = CountVectorizer()\n",
    "X = count_vect.fit_transform(data['text'])"
   ]
  },
  {
   "cell_type": "code",
   "execution_count": 16,
   "metadata": {
    "collapsed": false
   },
   "outputs": [
    {
     "data": {
      "text/plain": [
       "(30330, 43376)"
      ]
     },
     "execution_count": 16,
     "metadata": {},
     "output_type": "execute_result"
    }
   ],
   "source": [
    "from sklearn.feature_extraction.text import TfidfTransformer\n",
    "tfidf_transformer = TfidfTransformer()\n",
    "X_train_tfidf = tfidf_transformer.fit_transform(X)\n",
    "X_train_tfidf.shape"
   ]
  },
  {
   "cell_type": "code",
   "execution_count": 17,
   "metadata": {
    "collapsed": true
   },
   "outputs": [],
   "source": [
    "import numpy as np\n",
    "target = np.asarray(data['sentiment'])"
   ]
  },
  {
   "cell_type": "code",
   "execution_count": 18,
   "metadata": {
    "collapsed": false
   },
   "outputs": [],
   "source": [
    "from sklearn.cross_validation import KFold\n",
    "kf = KFold(len(data),10,shuffle=True)"
   ]
  },
  {
   "cell_type": "code",
   "execution_count": 19,
   "metadata": {
    "collapsed": true
   },
   "outputs": [],
   "source": [
    "from sklearn.svm import SVC\n",
    "clf = SVC(kernel='linear')"
   ]
  },
  {
   "cell_type": "code",
   "execution_count": 21,
   "metadata": {
    "collapsed": false
   },
   "outputs": [
    {
     "name": "stdout",
     "output_type": "stream",
     "text": [
      "Fold 0: Accuracy: 0.791625453347 F-Score: 0.851083883129\n",
      "Fold 1: Accuracy: 0.788658094296 F-Score: 0.851083883129\n",
      "Fold 2: Accuracy: 0.773161885922 F-Score: 0.851083883129\n",
      "Fold 3: Accuracy: 0.795911638642 F-Score: 0.851083883129\n",
      "Fold 4: Accuracy: 0.787339268051 F-Score: 0.851083883129\n",
      "Fold 5: Accuracy: 0.784701615562 F-Score: 0.851083883129\n",
      "Fold 6: Accuracy: 0.77546983185 F-Score: 0.851083883129\n",
      "Fold 7: Accuracy: 0.785031322123 F-Score: 0.851083883129\n",
      "Fold 8: Accuracy: 0.773161885922 F-Score: 0.851083883129\n",
      "Fold 9: Accuracy: 0.780415430267 F-Score: 0.851083883129\n"
     ]
    }
   ],
   "source": [
    "k = 0\n",
    "mean_accuracy = []\n",
    "mean_f1_score = []\n",
    "for train, val in kf:\n",
    "    X_train = X_train_tfidf[train]\n",
    "    y_train = target[train]\n",
    "    X_val = X_train_tfidf[val]\n",
    "    y_val =  target[val]\n",
    "    clf.fit(X_train,y_train)\n",
    "    predictions = clf.predict(X_val)\n",
    "    y_val = graphlab.SArray(y_val)\n",
    "    predictions = graphlab.SArray(predictions)\n",
    "    accuracy = graphlab.evaluation.accuracy(y_val,predictions)\n",
    "    f1_score = graphlab.evaluation.f1_score(y_val,predictions)\n",
    "    mean_accuracy += [accuracy]\n",
    "    mean_f1_score += [f1_score]\n",
    "    print 'Fold {0}: Accuracy: {1} F-Score: {2}'.format(k,accuracy,f_score)\n",
    "    k += 1\n",
    "mean_accuracy = np.asarray(mean_accuracy)\n",
    "mean_f1_score = np.asarray(mean_f1_score)"
   ]
  },
  {
   "cell_type": "code",
   "execution_count": 22,
   "metadata": {
    "collapsed": false
   },
   "outputs": [
    {
     "name": "stdout",
     "output_type": "stream",
     "text": [
      "Mean accuracy: 0.783547642598\n",
      "Mean F-Score: 0.845341606284\n"
     ]
    }
   ],
   "source": [
    "print 'Mean accuracy: {0}'.format(mean_accuracy.mean())\n",
    "print 'Mean F-Score: {0}'.format(mean_f1_score.mean())"
   ]
  },
  {
   "cell_type": "markdown",
   "metadata": {
    "collapsed": false
   },
   "source": [
    "## Undersampling"
   ]
  },
  {
   "cell_type": "code",
   "execution_count": 26,
   "metadata": {
    "collapsed": false
   },
   "outputs": [
    {
     "name": "stdout",
     "output_type": "stream",
     "text": [
      "Quantidade de reviews positivos: 10049\n",
      "Quantidade de reviews negativos: 9926\n",
      "Tamanho do dataset             : 19975\n"
     ]
    }
   ],
   "source": [
    "perc = len(negative)/len(positive)\n",
    "pos = positive.sample(perc,seed=10)\n",
    "data_und = pos.append(negative)\n",
    "print 'Quantidade de reviews positivos: '+ str(len(pos))\n",
    "print 'Quantidade de reviews negativos: '+ str(len(negative))\n",
    "print 'Tamanho do dataset             : '+ str(len(data_und))"
   ]
  },
  {
   "cell_type": "code",
   "execution_count": 28,
   "metadata": {
    "collapsed": false
   },
   "outputs": [
    {
     "name": "stdout",
     "output_type": "stream",
     "text": [
      "0.503078848561\n"
     ]
    }
   ],
   "source": [
    "from __future__ import division\n",
    "print len(pos)/len(data_und)"
   ]
  },
  {
   "cell_type": "code",
   "execution_count": 29,
   "metadata": {
    "collapsed": true
   },
   "outputs": [],
   "source": [
    "data_und = graphlab.cross_validation.shuffle(data_und,random_seed=10)"
   ]
  },
  {
   "cell_type": "code",
   "execution_count": 30,
   "metadata": {
    "collapsed": true
   },
   "outputs": [],
   "source": [
    "count_vect = CountVectorizer()\n",
    "X = count_vect.fit_transform(data_und['text'])"
   ]
  },
  {
   "cell_type": "code",
   "execution_count": 31,
   "metadata": {
    "collapsed": false
   },
   "outputs": [
    {
     "data": {
      "text/plain": [
       "(19975, 36520)"
      ]
     },
     "execution_count": 31,
     "metadata": {},
     "output_type": "execute_result"
    }
   ],
   "source": [
    "tfidf_transformer = TfidfTransformer()\n",
    "X_train_tfidf = tfidf_transformer.fit_transform(X)\n",
    "X_train_tfidf.shape"
   ]
  },
  {
   "cell_type": "code",
   "execution_count": 32,
   "metadata": {
    "collapsed": true
   },
   "outputs": [],
   "source": [
    "target = np.asarray(data_und['sentiment'])"
   ]
  },
  {
   "cell_type": "code",
   "execution_count": 33,
   "metadata": {
    "collapsed": true
   },
   "outputs": [],
   "source": [
    "kf = KFold(len(data_und),10,shuffle=True)"
   ]
  },
  {
   "cell_type": "code",
   "execution_count": 35,
   "metadata": {
    "collapsed": false
   },
   "outputs": [
    {
     "name": "stdout",
     "output_type": "stream",
     "text": [
      "Fold 0: Accuracy: 0.767767767768 F-Score: 0.770069375619\n",
      "Fold 1: Accuracy: 0.766266266266 F-Score: 0.770515970516\n",
      "Fold 2: Accuracy: 0.756256256256 F-Score: 0.757349277529\n",
      "Fold 3: Accuracy: 0.754254254254 F-Score: 0.761997091614\n",
      "Fold 4: Accuracy: 0.761261261261 F-Score: 0.761380690345\n",
      "Fold 5: Accuracy: 0.765648472709 F-Score: 0.760245901639\n",
      "Fold 6: Accuracy: 0.743114672008 F-Score: 0.741821841973\n",
      "Fold 7: Accuracy: 0.762143214822 F-Score: 0.764735017335\n",
      "Fold 8: Accuracy: 0.746119178768 F-Score: 0.745098039216\n",
      "Fold 9: Accuracy: 0.755633450175 F-Score: 0.749486652977\n"
     ]
    }
   ],
   "source": [
    "k = 0\n",
    "mean_accuracy = []\n",
    "mean_f1_score = []\n",
    "for train, val in kf:\n",
    "    X_train = X_train_tfidf[train]\n",
    "    y_train = target[train]\n",
    "    X_val = X_train_tfidf[val]\n",
    "    y_val =  target[val]\n",
    "    clf.fit(X_train,y_train)\n",
    "    predictions = clf.predict(X_val)\n",
    "    y_val = graphlab.SArray(y_val)\n",
    "    predictions = graphlab.SArray(predictions)\n",
    "    accuracy = graphlab.evaluation.accuracy(y_val,predictions)\n",
    "    f1_score = graphlab.evaluation.f1_score(y_val,predictions)\n",
    "    mean_accuracy += [accuracy]\n",
    "    mean_f1_score += [f1_score]\n",
    "    print 'Fold {0}: Accuracy: {1} F-Score: {2}'.format(k,accuracy,f1_score)\n",
    "    k += 1\n",
    "mean_accuracy = np.asarray(mean_accuracy)\n",
    "mean_f1_score = np.asarray(mean_f1_score)"
   ]
  },
  {
   "cell_type": "code",
   "execution_count": 36,
   "metadata": {
    "collapsed": false
   },
   "outputs": [
    {
     "name": "stdout",
     "output_type": "stream",
     "text": [
      "Mean accuracy: 0.757846479429\n",
      "Mean F-Score: 0.758269985876\n"
     ]
    }
   ],
   "source": [
    "print 'Mean accuracy: {0}'.format(mean_accuracy.mean())\n",
    "print 'Mean F-Score: {0}'.format(mean_f1_score.mean())"
   ]
  },
  {
   "cell_type": "code",
   "execution_count": null,
   "metadata": {
    "collapsed": true
   },
   "outputs": [],
   "source": []
  }
 ],
 "metadata": {
  "kernelspec": {
   "display_name": "Python 2",
   "language": "python",
   "name": "python2"
  },
  "language_info": {
   "codemirror_mode": {
    "name": "ipython",
    "version": 2
   },
   "file_extension": ".py",
   "mimetype": "text/x-python",
   "name": "python",
   "nbconvert_exporter": "python",
   "pygments_lexer": "ipython2",
   "version": "2.7.11"
  }
 },
 "nbformat": 4,
 "nbformat_minor": 0
}
